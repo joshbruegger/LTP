{
 "cells": [
  {
   "cell_type": "markdown",
   "metadata": {},
   "source": [
    "# Writing SPARQL queries\n",
    "\n",
    "The goal of this assignment is to construct and test SPARQL queries for the questions you submitted for assignment 1. \n",
    "\n",
    "## Assignment 2a\n",
    "\n",
    "Formulate SPARQL queries. You can test your queries at https://query.wikidata.org  If you are happy, store the queries as Python strings as suggested below. Include the question in English as a comment \n"
   ]
  },
  {
   "cell_type": "code",
   "execution_count": 60,
   "metadata": {},
   "outputs": [],
   "source": [
    "# What is the scientific name for cat?\n",
    "q1 = '''SELECT ?nameLabel\n",
    "WHERE {\n",
    "  wd:Q146 p:P31 ?statement.\n",
    "  ?statement ps:P31 wd:Q55983715.\n",
    "  ?statement pq:P642 ?name.\n",
    "  SERVICE wikibase:label { bd:serviceParam wikibase:language \"[AUTO_LANGUAGE],en\". }}'''\n",
    "\n",
    "# Who was the oldest cat?\n",
    "q2 = '''SELECT ?catLabel (ROUND((?death - ?birth)/365.2425) AS ?age)\n",
    "WHERE {\n",
    "  ?cat wdt:P31 wd:Q146 .\n",
    "  ?cat wdt:P570 ?death .\n",
    "  ?cat wdt:P569 ?birth .\n",
    "  FILTER(isLiteral(?birth)).\n",
    "  FILTER(isLiteral(?death)).\n",
    "  SERVICE wikibase:label { bd:serviceParam wikibase:language \"[AUTO_LANGUAGE],en\". } # Helps get the label in your language, if not, then en language\n",
    "}\n",
    "ORDER BY desc(?age)\n",
    "LIMIT 1\n",
    "'''\n",
    "\n",
    "# When did Unsinkable Sam die?\n",
    "q3 = '''SELECT ?death\n",
    "WHERE { wd:Q893453 wdt:P570  ?death. }\n",
    "'''\n",
    "\n",
    "# How many dog breeds are there?\n",
    "q4 = '''SELECT (COUNT (DISTINCT ?breed) AS ?count)\n",
    "WHERE { ?breed wdt:P31 wd:Q39367 .}\n",
    "'''\n",
    "\n",
    "# Are bananas berries?\n",
    "q5 = '''ASK  {wd:Q503 wdt:P279 wd:Q13184 }'''\n",
    "\n",
    "# What is the hottest chili pepper?\n",
    "q6 = '''SELECT ?itemLabel ?scoville\n",
    "WHERE {\n",
    "?item wdt:P279 wd:Q165199 .\n",
    "?item wdt:P2658 ?scoville\n",
    "SERVICE wikibase:label { bd:serviceParam wikibase:language \"[AUTO_LANGUAGE],en\" }\n",
    "}\n",
    "ORDER BY desc(?scoville)\n",
    "LIMIT 1\n",
    "'''\n",
    "\n",
    "# How heigh is an elephant?\n",
    "q7 = '''SELECT ?height ?unitHeightLabel\n",
    "WHERE {  \n",
    "  wd:Q7378 p:P2048 ?stmnodeHeight .\n",
    "  ?stmnodeHeight       psv:P2048                   ?valuenodeHeight.\n",
    "  ?valuenodeHeight     wikibase:quantityAmount     ?height.\n",
    "  ?valuenodeHeight     wikibase:quantityUnit       ?unitHeight.\n",
    "  SERVICE wikibase:label { bd:serviceParam wikibase:language \"[AUTO_LANGUAGE],en\" }}\n",
    "'''\n",
    "\n",
    "# Are sheeps herbivores?\n",
    "q8 = '''ASK {wd:Q7368 wdt:P279 wd:Q59099}'''\n",
    "\n",
    "# What is the sound of an eagle called?\n",
    "q9 = '''SELECT ?nameLabel  WHERE {\n",
    "  wd:Q2092297 wdt:P4733 ?name\n",
    "  SERVICE wikibase:label { bd:serviceParam wikibase:language \"en\" . }}\n",
    "'''\n",
    "\n",
    "# When did we start cultivating cucumbers?\n",
    "q10 = '''SELECT ?date WHERE {\n",
    "  wd:Q2735883 p:P279 ?statement.\n",
    "  ?statement ps:P279 wd:Q11004.\n",
    "  ?statement pq:P580 ?date.\n",
    "  FILTER(isLiteral(?date)).}\n",
    "'''"
   ]
  },
  {
   "cell_type": "markdown",
   "metadata": {
    "tags": []
   },
   "source": [
    "## Assignment 2b: Querying the Wikidata SPARQL Endpoint\n",
    "\n",
    "Write a function that sends a query to the sparql endpoint for wikidata, an which prints the answers. The function takes one argument, which is a variable whose value is (the string of) a SPARQL query, i.e. yourfunction(q1) should return the answer for your first query is that has variable q1.  \n",
    "\n",
    "Make sure you have the requests library. The code below illustrates how you can use the requests.get function to send a query to a sparql endpoint and get results back as a json object (a python dictionary). See the slides for examples of how to access the contents of that json object and display the answers. \n",
    "\n",
    "Test the function on your 10 queries to see whether they all give the expected answers."
   ]
  },
  {
   "cell_type": "code",
   "execution_count": 61,
   "metadata": {
    "tags": []
   },
   "outputs": [],
   "source": [
    "import requests\n",
    "\n",
    "url = 'https://query.wikidata.org/sparql'\n",
    "def queryWikidata(query) : \n",
    "    data = requests.get(url,\n",
    "        params={'query': query, 'format': 'json'}).json()\n",
    "    if 'ASK' in query:\n",
    "        print(data['boolean'])\n",
    "    else:\n",
    "        for item in data['results']['bindings']:\n",
    "            for var in item :\n",
    "                print('{}\\t{}'.format(var,item[var]['value']))"
   ]
  },
  {
   "cell_type": "code",
   "execution_count": 62,
   "metadata": {
    "tags": []
   },
   "outputs": [
    {
     "name": "stdout",
     "output_type": "stream",
     "text": [
      "-------------------------\n",
      "nameLabel\tFelis catus\n",
      "nameLabel\tFelis silvestris catus\n",
      "-------------------------\n",
      "catLabel\tCreme Puff\n",
      "age\t38\n",
      "-------------------------\n",
      "death\t1955-01-01T00:00:00Z\n",
      "-------------------------\n",
      "count\t813\n",
      "-------------------------\n",
      "True\n",
      "-------------------------\n",
      "scoville\t1569300\n",
      "itemLabel\tCarolina Reaper\n",
      "-------------------------\n",
      "height\t4\n",
      "unitHeightLabel\tmetre\n",
      "-------------------------\n",
      "True\n",
      "-------------------------\n",
      "nameLabel\teagle cry\n",
      "-------------------------\n",
      "date\t-2999-01-01T00:00:00Z\n",
      "-------------------------\n"
     ]
    }
   ],
   "source": [
    "questions = [q1, q2, q3, q4, q5, q6, q7, q8, q9, q10]\n",
    "for q in questions:\n",
    "    print('-------------------------')\n",
    "    queryWikidata(q)\n",
    "print('-------------------------')"
   ]
  },
  {
   "cell_type": "markdown",
   "metadata": {},
   "source": [
    "### Date values problem\n",
    "For date answers, there doesn't seem to be an optimal way to return a formatted value just with the request. There is the following trick:\n",
    "```\n",
    "(CONCAT(STR(MONTH(?date)), \n",
    "                      \"/\", \n",
    "          STR(DAY(?date)), \n",
    "                      \"/\", \n",
    "         STR(YEAR(?date)))\n",
    "            as ?dateLabel)\n",
    "```\n",
    "But it doesn't seem to work with BCE dates:\n",
    "```\n",
    "dateLabel: 1/1/-2999\n",
    "```"
   ]
  }
 ],
 "metadata": {
  "kernelspec": {
   "display_name": "Python 3 (ipykernel)",
   "language": "python",
   "name": "python3"
  },
  "language_info": {
   "codemirror_mode": {
    "name": "ipython",
    "version": 3
   },
   "file_extension": ".py",
   "mimetype": "text/x-python",
   "name": "python",
   "nbconvert_exporter": "python",
   "pygments_lexer": "ipython3",
   "version": "3.10.4"
  }
 },
 "nbformat": 4,
 "nbformat_minor": 4
}
