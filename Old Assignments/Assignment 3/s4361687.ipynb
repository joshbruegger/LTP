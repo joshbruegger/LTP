{
 "cells": [
  {
   "cell_type": "markdown",
   "metadata": {},
   "source": [
    "# Assignment 3: Simple Question Analysis\n",
    "\n",
    "The goal of this assignment is to write a first version of an an interactive QA system. The system should be able to take a question in natural language (English) as input, analyse the question, and generate a SPARQL query for it.\n",
    "\n",
    "For now, we will restrict our attention to questions of the form\n",
    "\n",
    "What/Who was/is/were (the/a/an) X of (the/a/an) Y? \n",
    "\n",
    "i.e.\n",
    "* \"What is the average heartrate of a chicken?\",\n",
    "* \"What is the more common english name of the Pinus longaeva?\",\n",
    "* \"What is the average height of a giraffe?\",\n",
    "* \"What is the conservation status of the Atlantic salmon?\",\n",
    "* \"What is the top speed of a cheetah?\",\n",
    "* \"What is the heart rate of a giraffe?\",\n",
    "* \"What is the wingspan of a raven?\",\n",
    "* \"What is the maximum wingspan of a bat?\",\n",
    "* \"What is the taxon rank of birch?\"\n",
    "* etc\n",
    "\n",
    "You can find more examples by searching the all-questions json file (on Nestor) for strings matching your pattern (using linux grep/egrep or other search tools)\n",
    "\n",
    "Below, we briefly go over the steps that are needed to build a simple interactive QA system (reading user input, analyzing the string, finding names of entities and properties, finding the URI for an entity or property, and constructing the  SPARQL query), and discuss some tools you can use."
   ]
  },
  {
   "cell_type": "code",
   "execution_count": null,
   "metadata": {},
   "outputs": [],
   "source": [
    "regex = '(?:Who|What) (?:was|is|were) ?(?:the|a|an)? (?:.+) of ?(?:the|a|an)? (?:.+)\\?'"
   ]
  },
  {
   "cell_type": "markdown",
   "metadata": {},
   "source": [
    "\n",
    "## Interactivity\n",
    "\n",
    "In a notebook, you can ask for user input by using the input function, as shown below. The text entered by the user is stored in the variable question.\n"
   ]
  },
  {
   "cell_type": "code",
   "execution_count": null,
   "metadata": {},
   "outputs": [],
   "source": [
    "question = input('Please ask a question\\n')"
   ]
  },
  {
   "cell_type": "markdown",
   "metadata": {},
   "source": [
    "## Linguistic Analysis with Spacy\n",
    "\n",
    "To generate a SPARQL query, the system needs to find a a property and an entity. The first step is to match the correct words in the question. So, for the first example, the property is indicated by the word _genres_ and the entity by the word _Inception_ These words can be sent as key-words to a wikidata api, to find the corresponding wikidata IDs (URIs). (More on this below)\n",
    "\n",
    "Pattern matching can be done using regular expressions (using the re python library). Alternatively, we can use a Spacy, a toolkit for doing linguistic analysis.\n",
    "\n",
    "[Spacy](https://spacy.io/usage) is a toolkit that comes with pretrained models for doing linguistic analysis in a number of languages. It can read in a text or sentence, tokenize the text (separate punctuation from words), assign Part-of-Speech (NOUN, VERB, PROPN, etc.) to tokens, lemmatize words (_actors_ --> _actor_), and detect named entities (like movie titles). See here for a short [tutorial](https://spacy.io/usage/spacy-101). \n",
    "\n",
    "When you install Spacy, make sure to also download the statistical model for analysing English sentences, en_core_web_sm"
   ]
  },
  {
   "cell_type": "code",
   "execution_count": null,
   "metadata": {},
   "outputs": [],
   "source": [
    "import spacy\n",
    "\n",
    "nlp = spacy.load(\"en_core_web_sm\") # this loads the model for analysing English text"
   ]
  },
  {
   "cell_type": "markdown",
   "metadata": {},
   "source": [
    "## Spacy tokenization and annotation\n",
    "\n",
    "The Spacy nlp function analyses an input text (i.e. the question of the user), and assigns an annotation to each token in the input. It returns a list of token objects, where each token object is a dictionary that has values for various attributes of each token in the sentence. \n",
    "\n",
    "The example below illustrates how to iterate over the token objects, and find interesting attributes. Spans can be useful if you want to grab multiple tokens. The analyzer also finds names of entities (persons, organisations, locations), but, unfortunately, for movie titles this often does not work. A more robust approach might be to find tokens that start with an uppercase. "
   ]
  },
  {
   "cell_type": "code",
   "execution_count": null,
   "metadata": {},
   "outputs": [],
   "source": [
    "question = 'What is the more common english name of the Pinus longaeva?'\n",
    "\n",
    "parse = nlp(question) # parse the input\n",
    "\n",
    "for word in parse : # iterate over the token objects\n",
    "    print(word.text, word.lemma_, word.pos_)\n",
    "print(parse[3:5].text) # you can also select multiple tokens as a span.\n",
    "for ent in parse.ents : # the analysis also detects names of entities. Very unreliable for animal and plant names...\n",
    "    print(ent.text, ent.label_)\n",
    "for word in parse :\n",
    "        if word.text.istitle() : # check if word starts with uppercase letter\n",
    "            print(word)\n",
    "print(parse[8:10].text.istitle()) # check if all words in a span start with uppercase"
   ]
  },
  {
   "cell_type": "markdown",
   "metadata": {},
   "source": [
    "## Visualisation\n",
    "\n",
    "For a quick understanding of what the parser does, and how it assigns part-of-speech, entities, etc. you can also visualise parse results. Below, the entity visualiser and parsing visualiser is demonstrated. You can ignore the arrows (dependency links) for now, we return to them next week. \n",
    "\n",
    "This code is for illustration only, it is not part of the assignment. "
   ]
  },
  {
   "cell_type": "code",
   "execution_count": null,
   "metadata": {},
   "outputs": [],
   "source": [
    "from spacy import displacy\n",
    "\n",
    "question = \"Who is the main character of the movie Harry Potter\"\n",
    "\n",
    "parse = nlp(question)\n",
    "\n",
    "displacy.render(parse, jupyter=True, style=\"ent\")\n",
    "\n",
    "displacy.render(parse, jupyter=True, style=\"dep\")"
   ]
  },
  {
   "cell_type": "markdown",
   "metadata": {},
   "source": [
    "## Finding a URI:  the Wikidata entity finder \n",
    "\n",
    "From the parse of the user question, you can extract the words for the property and the entity that are needed to formulate a SPARQL query. The ids of the property and entity can be found by accessing the wikidata entity finder.\n",
    "\n",
    "See the example below for finding the id of the movie The Godfather. In most cases, the first result is correct, but it may be necessary to try various ids...\n",
    "\n",
    "Properties can be found by including 'type' : 'property' in the parameters. "
   ]
  },
  {
   "cell_type": "code",
   "execution_count": null,
   "metadata": {},
   "outputs": [],
   "source": [
    "import requests\n",
    "\n",
    "url = 'https://www.wikidata.org/w/api.php'\n",
    "params = {'action':'wbsearchentities',\n",
    "          'language':'en',\n",
    "          'format':'json'}\n",
    "\n",
    "params['search'] = 'The Godfather'\n",
    "json = requests.get(url,params).json()\n",
    "for result in json['search']:\n",
    "    print(\"{}\\t{}\\t{}\".format(result['id'], result['label'], result['description']))"
   ]
  },
  {
   "cell_type": "markdown",
   "metadata": {},
   "source": [
    "## Building a SPARQL query \n",
    "\n",
    "With the id of the property and the entity, an SPARQL query can be formulated, and the sparql endpoint of wikidata can be queried for an answer. Note that this is the same as in the previous assignment.\n",
    "\n",
    "Also note that for python, a SPARQL query is just a string, so you can construct the query by concatenating the start of the query, the ids, and the end of the query. "
   ]
  },
  {
   "cell_type": "code",
   "execution_count": null,
   "metadata": {},
   "outputs": [],
   "source": [
    "ID1 = 'q47703'\n",
    "ID2 = 'p577'\n",
    "query = 'SELECT ?answerLabel WHERE { wd:' + ID1 + ' wdt:' + ID2 + ' ?answer }'\n",
    "print(query)"
   ]
  },
  {
   "cell_type": "markdown",
   "metadata": {},
   "source": [
    "# Assignment \n",
    "\n",
    "Using the steps outlined above, write a function that takes input from the user, analyses it with Spacy, extracts the relevant key-words, finds the wikidata URIs for these (using wikidata entity finder or manually written rules, constructs the relevant SPARQL query, and sends the SPARQL query to the sparql endpoint, and prints the answer. \n",
    "\n",
    "Include 10 examples of questions that worked for your system in the comments or in a separate markdown cell. "
   ]
  },
  {
   "cell_type": "code",
   "execution_count": 4,
   "metadata": {},
   "outputs": [],
   "source": [
    "import requests, re, spacy\n",
    "\n",
    "def formatAnswer(data):\n",
    "    data = data[0]\n",
    "    ans = str(data['answerLabel']['value']).capitalize()\n",
    "\n",
    "    unit = ''\n",
    "    if 'unitLabel' in data:\n",
    "        unit =  ' ' + data['unitLabel']['value']\n",
    "\n",
    "    # If the answer is a (number > 1) + unit combination, make unit plural\n",
    "    if ans.replace('.','',1).isdigit() and float(ans) > 1.0:\n",
    "       unit += 's'\n",
    "\n",
    "    return ans + unit\n",
    "\n",
    "\n",
    "\n",
    "def queryWikidata(query) :\n",
    "    try:\n",
    "        data = requests.get('https://query.wikidata.org/sparql',\n",
    "            headers = {'User-Agent': 'QASys/0.0 (https://rug.nl/LTP/; josh@bruegger.it)'},\n",
    "            params={'query': query, 'format': 'json'}).json()['results']['bindings']\n",
    "    except:\n",
    "        return 'Error: Query failed: Too many requests?'\n",
    "\n",
    "    if len(data) == 0:\n",
    "        return None\n",
    "\n",
    "    return formatAnswer(data)\n",
    "\n",
    "\n",
    "\n",
    "def buildQuery(object, property):\n",
    "    q = 'SELECT ?answerLabel ?unitLabel WHERE{wd:'\n",
    "    q += object + ' p:' + property + '?s.?s ps:'\n",
    "    q += property + '?answer. OPTIONAL{?s psv:'\n",
    "    q += property + '?u.?u wikibase:quantityUnit ?unit.}'\n",
    "    q += 'SERVICE wikibase:label{bd:serviceParam wikibase:language \"[AUTO_LANGUAGE],en\"}}'\n",
    "    return q\n",
    "\n",
    "\n",
    "\n",
    "def getWikidataIDs(query, isProperty = False):\n",
    "    url = 'https://www.wikidata.org/w/api.php'\n",
    "    params = {'action':'wbsearchentities',\n",
    "            'language':'en',\n",
    "            'format':'json',\n",
    "            'search': query}\n",
    "    if isProperty:\n",
    "        params['type'] = 'property'\n",
    "\n",
    "    return requests.get(url,params).json()['search']\n",
    "\n",
    "\n",
    "\n",
    "def extractPropertyAndObject(question):\n",
    "    nlp = spacy.load(\"en_core_web_trf\") # this loads the model for analysing English text\n",
    "    doc = nlp(question) # parse the input\n",
    "\n",
    "    nouns = list(doc.noun_chunks)\n",
    "    removeArticle = lambda str: re.sub('^(?:the|a|an) ', '', str)\n",
    "\n",
    "    if len(nouns) < 3:\n",
    "        print(len(nouns))\n",
    "        return \"ERR\", \"ERR\"\n",
    "\n",
    "    object = removeArticle(nouns[len(nouns)-1].text)\n",
    "    if (len(nouns) > 3):\n",
    "        pattern = '(' + nouns[1].text + '.*?' + nouns[len(nouns)-2].text + ')'\n",
    "        m = re.search(pattern, question)\n",
    "        property = removeArticle(m.group(1))\n",
    "    else:\n",
    "        property = removeArticle(nouns[1].text)\n",
    "\n",
    "    return property, object\n",
    "\n",
    "\n",
    "\n",
    "# Has to match (?:Who|What) (?:was|is|were) ?(?:the|a|an)? (?:.+) of ?(?:the|a|an)? (?:.+)\\?\n",
    "def getAnswer(question):\n",
    "    propertyText, objectText = extractPropertyAndObject(question)\n",
    "\n",
    "    #print('Looking for: ' + propertyText + ' of ' + objectText + '...')\n",
    "\n",
    "    possibleObjects = getWikidataIDs(objectText)\n",
    "    possibleProperties = getWikidataIDs(propertyText, True)\n",
    "\n",
    "    for object in possibleObjects:\n",
    "        for property in possibleProperties:\n",
    "            #print('trying: ' + property['id'] + ' of ' + object['id'])\n",
    "            answer = queryWikidata(buildQuery(object['id'], property['id']))\n",
    "            if answer is not None:\n",
    "                return answer\n",
    "\n",
    "    return None\n",
    "\n",
    "\n",
    "def answerQuestion(q):\n",
    "    ans = getAnswer(q)\n",
    "    if (ans != None):\n",
    "        print('Question: ' + q)\n",
    "        print('Answer: ' + ans)\n",
    "    else:\n",
    "        print(\"Sorry, I don't know!\")"
   ]
  },
  {
   "cell_type": "code",
   "execution_count": 3,
   "metadata": {},
   "outputs": [
    {
     "name": "stdout",
     "output_type": "stream",
     "text": [
      "Question: What is the life expectancy of a cat?\n",
      "Answer: 15 years\n",
      "Question: What is the highest observed lifespan of a tiger?\n",
      "Answer: 26.3 years\n",
      "Question: What was the height of a mammoth?\n",
      "Answer: 3.4 metres\n",
      "Question: What is the parent taxon of Teuthida?\n",
      "Answer: Decapodiformes\n",
      "Question: What is the height of an elephant?\n",
      "Answer: 4 metres\n",
      "Question: What is the gestation period of a LLama?\n",
      "Answer: 358 days\n",
      "Question: What is the flower color of Helianthus annuus?\n",
      "Answer: Yellow\n",
      "Question: What is the taxon name of the black mamba?\n",
      "Answer: Dendroaspis polylepis\n",
      "Question: What is the means of locomotion of Stomatopoda?\n",
      "Answer: Rolling\n",
      "Question: What is the opposite of a perennial plant?\n",
      "Answer: Annual plant\n",
      "Question: What is the heart rate of a chicken?\n",
      "Answer: 275 beats per minutes\n",
      "Question: What is the life expectancy of a house cat?\n",
      "Answer: 15 years\n"
     ]
    }
   ],
   "source": [
    "questions = '''What is the life expectancy of a cat?\n",
    "What is the highest observed lifespan of a tiger?\n",
    "What was the height of a mammoth?\n",
    "What is the parent taxon of Teuthida?\n",
    "What is the height of an elephant?\n",
    "What is the gestation period of a LLama?\n",
    "What is the flower color of Helianthus annuus?\n",
    "What is the taxon name of the black mamba?\n",
    "What is the means of locomotion of Stomatopoda?\n",
    "What is the opposite of a perennial plant?\n",
    "What is the heart rate of a chicken?\n",
    "What is the life expectancy of a house cat?\n",
    "What is the heart rate of a giraffe?'''\n",
    "\n",
    "\n",
    "for q in questions.splitlines():\n",
    "    answerQuestion(q)"
   ]
  },
  {
   "cell_type": "code",
   "execution_count": 2,
   "metadata": {},
   "outputs": [
    {
     "name": "stderr",
     "output_type": "stream",
     "text": [
      "/home/josh/.local/lib/python3.10/site-packages/spacy/util.py:833: UserWarning: [W095] Model 'en_core_web_sm' (3.3.0) was trained with spaCy v3.3 and may not be 100% compatible with the current version (3.2.4). If you see errors or degraded performance, download a newer compatible model or retrain your custom model with the current spaCy version. For more details and available updates, run: python -m spacy validate\n",
      "  warnings.warn(warn_msg)\n"
     ]
    },
    {
     "ename": "RegistryError",
     "evalue": "[E893] Could not find function 'spacy.Tagger.v2' in function registry 'architectures'. If you're using a custom function, make sure the code is available. If the function is provided by a third-party package, e.g. spacy-transformers, make sure the package is installed in your environment.\n\nAvailable names: spacy-legacy.CharacterEmbed.v1, spacy-legacy.EntityLinker.v1, spacy-legacy.HashEmbedCNN.v1, spacy-legacy.MaxoutWindowEncoder.v1, spacy-legacy.MishWindowEncoder.v1, spacy-legacy.MultiHashEmbed.v1, spacy-legacy.Tagger.v1, spacy-legacy.TextCatBOW.v1, spacy-legacy.TextCatCNN.v1, spacy-legacy.TextCatEnsemble.v1, spacy-legacy.Tok2Vec.v1, spacy-legacy.TransitionBasedParser.v1, spacy-transformers.Tok2VecTransformer.v1, spacy-transformers.Tok2VecTransformer.v2, spacy-transformers.Tok2VecTransformer.v3, spacy-transformers.TransformerListener.v1, spacy-transformers.TransformerModel.v1, spacy-transformers.TransformerModel.v2, spacy-transformers.TransformerModel.v3, spacy.CharacterEmbed.v2, spacy.EntityLinker.v1, spacy.HashEmbedCNN.v2, spacy.MaxoutWindowEncoder.v2, spacy.MishWindowEncoder.v2, spacy.MultiHashEmbed.v2, spacy.PretrainCharacters.v1, spacy.PretrainVectors.v1, spacy.SpanCategorizer.v1, spacy.Tagger.v1, spacy.TextCatBOW.v2, spacy.TextCatCNN.v2, spacy.TextCatEnsemble.v2, spacy.TextCatLowData.v1, spacy.Tok2Vec.v2, spacy.Tok2VecListener.v1, spacy.TorchBiLSTMEncoder.v1, spacy.TransitionBasedParser.v2",
     "output_type": "error",
     "traceback": [
      "\u001b[0;31m---------------------------------------------------------------------------\u001b[0m",
      "\u001b[0;31mRegistryError\u001b[0m                             Traceback (most recent call last)",
      "\u001b[1;32m/home/josh/GoogleDrive/Education/University/Year 2/Semester 2/Language Technology Practical/Assignment 3/s4361687.ipynb Cell 18'\u001b[0m in \u001b[0;36m<cell line: 2>\u001b[0;34m()\u001b[0m\n\u001b[1;32m      <a href='vscode-notebook-cell:/home/josh/GoogleDrive/Education/University/Year%202/Semester%202/Language%20Technology%20Practical/Assignment%203/s4361687.ipynb#ch0000017?line=3'>4</a>\u001b[0m \u001b[39mif\u001b[39;00m q \u001b[39m==\u001b[39m \u001b[39m'\u001b[39m\u001b[39mstop\u001b[39m\u001b[39m'\u001b[39m:\n\u001b[1;32m      <a href='vscode-notebook-cell:/home/josh/GoogleDrive/Education/University/Year%202/Semester%202/Language%20Technology%20Practical/Assignment%203/s4361687.ipynb#ch0000017?line=4'>5</a>\u001b[0m     \u001b[39mbreak\u001b[39;00m\n\u001b[0;32m----> <a href='vscode-notebook-cell:/home/josh/GoogleDrive/Education/University/Year%202/Semester%202/Language%20Technology%20Practical/Assignment%203/s4361687.ipynb#ch0000017?line=5'>6</a>\u001b[0m answerQuestion(q)\n",
      "\u001b[1;32m/home/josh/GoogleDrive/Education/University/Year 2/Semester 2/Language Technology Practical/Assignment 3/s4361687.ipynb Cell 16'\u001b[0m in \u001b[0;36manswerQuestion\u001b[0;34m(q)\u001b[0m\n\u001b[1;32m     <a href='vscode-notebook-cell:/home/josh/GoogleDrive/Education/University/Year%202/Semester%202/Language%20Technology%20Practical/Assignment%203/s4361687.ipynb#ch0000015?line=98'>99</a>\u001b[0m \u001b[39mdef\u001b[39;00m \u001b[39manswerQuestion\u001b[39m(q):\n\u001b[0;32m--> <a href='vscode-notebook-cell:/home/josh/GoogleDrive/Education/University/Year%202/Semester%202/Language%20Technology%20Practical/Assignment%203/s4361687.ipynb#ch0000015?line=99'>100</a>\u001b[0m     ans \u001b[39m=\u001b[39m getAnswer(q)\n\u001b[1;32m    <a href='vscode-notebook-cell:/home/josh/GoogleDrive/Education/University/Year%202/Semester%202/Language%20Technology%20Practical/Assignment%203/s4361687.ipynb#ch0000015?line=100'>101</a>\u001b[0m     \u001b[39mif\u001b[39;00m (ans \u001b[39m!=\u001b[39m \u001b[39mNone\u001b[39;00m):\n\u001b[1;32m    <a href='vscode-notebook-cell:/home/josh/GoogleDrive/Education/University/Year%202/Semester%202/Language%20Technology%20Practical/Assignment%203/s4361687.ipynb#ch0000015?line=101'>102</a>\u001b[0m         \u001b[39mprint\u001b[39m(\u001b[39m'\u001b[39m\u001b[39mQuestion: \u001b[39m\u001b[39m'\u001b[39m \u001b[39m+\u001b[39m q)\n",
      "\u001b[1;32m/home/josh/GoogleDrive/Education/University/Year 2/Semester 2/Language Technology Practical/Assignment 3/s4361687.ipynb Cell 16'\u001b[0m in \u001b[0;36mgetAnswer\u001b[0;34m(question)\u001b[0m\n\u001b[1;32m     <a href='vscode-notebook-cell:/home/josh/GoogleDrive/Education/University/Year%202/Semester%202/Language%20Technology%20Practical/Assignment%203/s4361687.ipynb#ch0000015?line=80'>81</a>\u001b[0m \u001b[39mdef\u001b[39;00m \u001b[39mgetAnswer\u001b[39m(question):\n\u001b[0;32m---> <a href='vscode-notebook-cell:/home/josh/GoogleDrive/Education/University/Year%202/Semester%202/Language%20Technology%20Practical/Assignment%203/s4361687.ipynb#ch0000015?line=81'>82</a>\u001b[0m     propertyText, objectText \u001b[39m=\u001b[39m extractPropertyAndObject(question)\n\u001b[1;32m     <a href='vscode-notebook-cell:/home/josh/GoogleDrive/Education/University/Year%202/Semester%202/Language%20Technology%20Practical/Assignment%203/s4361687.ipynb#ch0000015?line=83'>84</a>\u001b[0m     \u001b[39m#print('Looking for: ' + propertyText + ' of ' + objectText + '...')\u001b[39;00m\n\u001b[1;32m     <a href='vscode-notebook-cell:/home/josh/GoogleDrive/Education/University/Year%202/Semester%202/Language%20Technology%20Practical/Assignment%203/s4361687.ipynb#ch0000015?line=85'>86</a>\u001b[0m     possibleObjects \u001b[39m=\u001b[39m getWikidataIDs(objectText)\n",
      "\u001b[1;32m/home/josh/GoogleDrive/Education/University/Year 2/Semester 2/Language Technology Practical/Assignment 3/s4361687.ipynb Cell 16'\u001b[0m in \u001b[0;36mextractPropertyAndObject\u001b[0;34m(question)\u001b[0m\n\u001b[1;32m     <a href='vscode-notebook-cell:/home/josh/GoogleDrive/Education/University/Year%202/Semester%202/Language%20Technology%20Practical/Assignment%203/s4361687.ipynb#ch0000015?line=56'>57</a>\u001b[0m \u001b[39mdef\u001b[39;00m \u001b[39mextractPropertyAndObject\u001b[39m(question):\n\u001b[0;32m---> <a href='vscode-notebook-cell:/home/josh/GoogleDrive/Education/University/Year%202/Semester%202/Language%20Technology%20Practical/Assignment%203/s4361687.ipynb#ch0000015?line=57'>58</a>\u001b[0m     nlp \u001b[39m=\u001b[39m spacy\u001b[39m.\u001b[39;49mload(\u001b[39m\"\u001b[39;49m\u001b[39men_core_web_sm\u001b[39;49m\u001b[39m\"\u001b[39;49m) \u001b[39m# this loads the model for analysing English text\u001b[39;00m\n\u001b[1;32m     <a href='vscode-notebook-cell:/home/josh/GoogleDrive/Education/University/Year%202/Semester%202/Language%20Technology%20Practical/Assignment%203/s4361687.ipynb#ch0000015?line=58'>59</a>\u001b[0m     doc \u001b[39m=\u001b[39m nlp(question) \u001b[39m# parse the input\u001b[39;00m\n\u001b[1;32m     <a href='vscode-notebook-cell:/home/josh/GoogleDrive/Education/University/Year%202/Semester%202/Language%20Technology%20Practical/Assignment%203/s4361687.ipynb#ch0000015?line=60'>61</a>\u001b[0m     nouns \u001b[39m=\u001b[39m \u001b[39mlist\u001b[39m(doc\u001b[39m.\u001b[39mnoun_chunks)\n",
      "File \u001b[0;32m~/.local/lib/python3.10/site-packages/spacy/__init__.py:51\u001b[0m, in \u001b[0;36mload\u001b[0;34m(name, vocab, disable, exclude, config)\u001b[0m\n\u001b[1;32m     <a href='file:///home/josh/.local/lib/python3.10/site-packages/spacy/__init__.py?line=29'>30</a>\u001b[0m \u001b[39mdef\u001b[39;00m \u001b[39mload\u001b[39m(\n\u001b[1;32m     <a href='file:///home/josh/.local/lib/python3.10/site-packages/spacy/__init__.py?line=30'>31</a>\u001b[0m     name: Union[\u001b[39mstr\u001b[39m, Path],\n\u001b[1;32m     <a href='file:///home/josh/.local/lib/python3.10/site-packages/spacy/__init__.py?line=31'>32</a>\u001b[0m     \u001b[39m*\u001b[39m,\n\u001b[0;32m   (...)\u001b[0m\n\u001b[1;32m     <a href='file:///home/josh/.local/lib/python3.10/site-packages/spacy/__init__.py?line=35'>36</a>\u001b[0m     config: Union[Dict[\u001b[39mstr\u001b[39m, Any], Config] \u001b[39m=\u001b[39m util\u001b[39m.\u001b[39mSimpleFrozenDict(),\n\u001b[1;32m     <a href='file:///home/josh/.local/lib/python3.10/site-packages/spacy/__init__.py?line=36'>37</a>\u001b[0m ) \u001b[39m-\u001b[39m\u001b[39m>\u001b[39m Language:\n\u001b[1;32m     <a href='file:///home/josh/.local/lib/python3.10/site-packages/spacy/__init__.py?line=37'>38</a>\u001b[0m     \u001b[39m\"\"\"Load a spaCy model from an installed package or a local path.\u001b[39;00m\n\u001b[1;32m     <a href='file:///home/josh/.local/lib/python3.10/site-packages/spacy/__init__.py?line=38'>39</a>\u001b[0m \n\u001b[1;32m     <a href='file:///home/josh/.local/lib/python3.10/site-packages/spacy/__init__.py?line=39'>40</a>\u001b[0m \u001b[39m    name (str): Package name or model path.\u001b[39;00m\n\u001b[0;32m   (...)\u001b[0m\n\u001b[1;32m     <a href='file:///home/josh/.local/lib/python3.10/site-packages/spacy/__init__.py?line=48'>49</a>\u001b[0m \u001b[39m    RETURNS (Language): The loaded nlp object.\u001b[39;00m\n\u001b[1;32m     <a href='file:///home/josh/.local/lib/python3.10/site-packages/spacy/__init__.py?line=49'>50</a>\u001b[0m \u001b[39m    \"\"\"\u001b[39;00m\n\u001b[0;32m---> <a href='file:///home/josh/.local/lib/python3.10/site-packages/spacy/__init__.py?line=50'>51</a>\u001b[0m     \u001b[39mreturn\u001b[39;00m util\u001b[39m.\u001b[39;49mload_model(\n\u001b[1;32m     <a href='file:///home/josh/.local/lib/python3.10/site-packages/spacy/__init__.py?line=51'>52</a>\u001b[0m         name, vocab\u001b[39m=\u001b[39;49mvocab, disable\u001b[39m=\u001b[39;49mdisable, exclude\u001b[39m=\u001b[39;49mexclude, config\u001b[39m=\u001b[39;49mconfig\n\u001b[1;32m     <a href='file:///home/josh/.local/lib/python3.10/site-packages/spacy/__init__.py?line=52'>53</a>\u001b[0m     )\n",
      "File \u001b[0;32m~/.local/lib/python3.10/site-packages/spacy/util.py:420\u001b[0m, in \u001b[0;36mload_model\u001b[0;34m(name, vocab, disable, exclude, config)\u001b[0m\n\u001b[1;32m    <a href='file:///home/josh/.local/lib/python3.10/site-packages/spacy/util.py?line=417'>418</a>\u001b[0m     \u001b[39mreturn\u001b[39;00m get_lang_class(name\u001b[39m.\u001b[39mreplace(\u001b[39m\"\u001b[39m\u001b[39mblank:\u001b[39m\u001b[39m\"\u001b[39m, \u001b[39m\"\u001b[39m\u001b[39m\"\u001b[39m))()\n\u001b[1;32m    <a href='file:///home/josh/.local/lib/python3.10/site-packages/spacy/util.py?line=418'>419</a>\u001b[0m \u001b[39mif\u001b[39;00m is_package(name):  \u001b[39m# installed as package\u001b[39;00m\n\u001b[0;32m--> <a href='file:///home/josh/.local/lib/python3.10/site-packages/spacy/util.py?line=419'>420</a>\u001b[0m     \u001b[39mreturn\u001b[39;00m load_model_from_package(name, \u001b[39m*\u001b[39;49m\u001b[39m*\u001b[39;49mkwargs)  \u001b[39m# type: ignore[arg-type]\u001b[39;00m\n\u001b[1;32m    <a href='file:///home/josh/.local/lib/python3.10/site-packages/spacy/util.py?line=420'>421</a>\u001b[0m \u001b[39mif\u001b[39;00m Path(name)\u001b[39m.\u001b[39mexists():  \u001b[39m# path to model data directory\u001b[39;00m\n\u001b[1;32m    <a href='file:///home/josh/.local/lib/python3.10/site-packages/spacy/util.py?line=421'>422</a>\u001b[0m     \u001b[39mreturn\u001b[39;00m load_model_from_path(Path(name), \u001b[39m*\u001b[39m\u001b[39m*\u001b[39mkwargs)  \u001b[39m# type: ignore[arg-type]\u001b[39;00m\n",
      "File \u001b[0;32m~/.local/lib/python3.10/site-packages/spacy/util.py:453\u001b[0m, in \u001b[0;36mload_model_from_package\u001b[0;34m(name, vocab, disable, exclude, config)\u001b[0m\n\u001b[1;32m    <a href='file:///home/josh/.local/lib/python3.10/site-packages/spacy/util.py?line=437'>438</a>\u001b[0m \u001b[39m\"\"\"Load a model from an installed package.\u001b[39;00m\n\u001b[1;32m    <a href='file:///home/josh/.local/lib/python3.10/site-packages/spacy/util.py?line=438'>439</a>\u001b[0m \n\u001b[1;32m    <a href='file:///home/josh/.local/lib/python3.10/site-packages/spacy/util.py?line=439'>440</a>\u001b[0m \u001b[39mname (str): The package name.\u001b[39;00m\n\u001b[0;32m   (...)\u001b[0m\n\u001b[1;32m    <a href='file:///home/josh/.local/lib/python3.10/site-packages/spacy/util.py?line=449'>450</a>\u001b[0m \u001b[39mRETURNS (Language): The loaded nlp object.\u001b[39;00m\n\u001b[1;32m    <a href='file:///home/josh/.local/lib/python3.10/site-packages/spacy/util.py?line=450'>451</a>\u001b[0m \u001b[39m\"\"\"\u001b[39;00m\n\u001b[1;32m    <a href='file:///home/josh/.local/lib/python3.10/site-packages/spacy/util.py?line=451'>452</a>\u001b[0m \u001b[39mcls\u001b[39m \u001b[39m=\u001b[39m importlib\u001b[39m.\u001b[39mimport_module(name)\n\u001b[0;32m--> <a href='file:///home/josh/.local/lib/python3.10/site-packages/spacy/util.py?line=452'>453</a>\u001b[0m \u001b[39mreturn\u001b[39;00m \u001b[39mcls\u001b[39;49m\u001b[39m.\u001b[39;49mload(vocab\u001b[39m=\u001b[39;49mvocab, disable\u001b[39m=\u001b[39;49mdisable, exclude\u001b[39m=\u001b[39;49mexclude, config\u001b[39m=\u001b[39;49mconfig)\n",
      "File \u001b[0;32m~/.local/lib/python3.10/site-packages/en_core_web_sm/__init__.py:10\u001b[0m, in \u001b[0;36mload\u001b[0;34m(**overrides)\u001b[0m\n\u001b[1;32m      <a href='file:///home/josh/.local/lib/python3.10/site-packages/en_core_web_sm/__init__.py?line=8'>9</a>\u001b[0m \u001b[39mdef\u001b[39;00m \u001b[39mload\u001b[39m(\u001b[39m*\u001b[39m\u001b[39m*\u001b[39moverrides):\n\u001b[0;32m---> <a href='file:///home/josh/.local/lib/python3.10/site-packages/en_core_web_sm/__init__.py?line=9'>10</a>\u001b[0m     \u001b[39mreturn\u001b[39;00m load_model_from_init_py(\u001b[39m__file__\u001b[39;49m, \u001b[39m*\u001b[39;49m\u001b[39m*\u001b[39;49moverrides)\n",
      "File \u001b[0;32m~/.local/lib/python3.10/site-packages/spacy/util.py:615\u001b[0m, in \u001b[0;36mload_model_from_init_py\u001b[0;34m(init_file, vocab, disable, exclude, config)\u001b[0m\n\u001b[1;32m    <a href='file:///home/josh/.local/lib/python3.10/site-packages/spacy/util.py?line=612'>613</a>\u001b[0m \u001b[39mif\u001b[39;00m \u001b[39mnot\u001b[39;00m model_path\u001b[39m.\u001b[39mexists():\n\u001b[1;32m    <a href='file:///home/josh/.local/lib/python3.10/site-packages/spacy/util.py?line=613'>614</a>\u001b[0m     \u001b[39mraise\u001b[39;00m \u001b[39mIOError\u001b[39;00m(Errors\u001b[39m.\u001b[39mE052\u001b[39m.\u001b[39mformat(path\u001b[39m=\u001b[39mdata_path))\n\u001b[0;32m--> <a href='file:///home/josh/.local/lib/python3.10/site-packages/spacy/util.py?line=614'>615</a>\u001b[0m \u001b[39mreturn\u001b[39;00m load_model_from_path(\n\u001b[1;32m    <a href='file:///home/josh/.local/lib/python3.10/site-packages/spacy/util.py?line=615'>616</a>\u001b[0m     data_path,\n\u001b[1;32m    <a href='file:///home/josh/.local/lib/python3.10/site-packages/spacy/util.py?line=616'>617</a>\u001b[0m     vocab\u001b[39m=\u001b[39;49mvocab,\n\u001b[1;32m    <a href='file:///home/josh/.local/lib/python3.10/site-packages/spacy/util.py?line=617'>618</a>\u001b[0m     meta\u001b[39m=\u001b[39;49mmeta,\n\u001b[1;32m    <a href='file:///home/josh/.local/lib/python3.10/site-packages/spacy/util.py?line=618'>619</a>\u001b[0m     disable\u001b[39m=\u001b[39;49mdisable,\n\u001b[1;32m    <a href='file:///home/josh/.local/lib/python3.10/site-packages/spacy/util.py?line=619'>620</a>\u001b[0m     exclude\u001b[39m=\u001b[39;49mexclude,\n\u001b[1;32m    <a href='file:///home/josh/.local/lib/python3.10/site-packages/spacy/util.py?line=620'>621</a>\u001b[0m     config\u001b[39m=\u001b[39;49mconfig,\n\u001b[1;32m    <a href='file:///home/josh/.local/lib/python3.10/site-packages/spacy/util.py?line=621'>622</a>\u001b[0m )\n",
      "File \u001b[0;32m~/.local/lib/python3.10/site-packages/spacy/util.py:488\u001b[0m, in \u001b[0;36mload_model_from_path\u001b[0;34m(model_path, meta, vocab, disable, exclude, config)\u001b[0m\n\u001b[1;32m    <a href='file:///home/josh/.local/lib/python3.10/site-packages/spacy/util.py?line=485'>486</a>\u001b[0m overrides \u001b[39m=\u001b[39m dict_to_dot(config)\n\u001b[1;32m    <a href='file:///home/josh/.local/lib/python3.10/site-packages/spacy/util.py?line=486'>487</a>\u001b[0m config \u001b[39m=\u001b[39m load_config(config_path, overrides\u001b[39m=\u001b[39moverrides)\n\u001b[0;32m--> <a href='file:///home/josh/.local/lib/python3.10/site-packages/spacy/util.py?line=487'>488</a>\u001b[0m nlp \u001b[39m=\u001b[39m load_model_from_config(config, vocab\u001b[39m=\u001b[39;49mvocab, disable\u001b[39m=\u001b[39;49mdisable, exclude\u001b[39m=\u001b[39;49mexclude)\n\u001b[1;32m    <a href='file:///home/josh/.local/lib/python3.10/site-packages/spacy/util.py?line=488'>489</a>\u001b[0m \u001b[39mreturn\u001b[39;00m nlp\u001b[39m.\u001b[39mfrom_disk(model_path, exclude\u001b[39m=\u001b[39mexclude, overrides\u001b[39m=\u001b[39moverrides)\n",
      "File \u001b[0;32m~/.local/lib/python3.10/site-packages/spacy/util.py:525\u001b[0m, in \u001b[0;36mload_model_from_config\u001b[0;34m(config, vocab, disable, exclude, auto_fill, validate)\u001b[0m\n\u001b[1;32m    <a href='file:///home/josh/.local/lib/python3.10/site-packages/spacy/util.py?line=521'>522</a>\u001b[0m \u001b[39m# This will automatically handle all codes registered via the languages\u001b[39;00m\n\u001b[1;32m    <a href='file:///home/josh/.local/lib/python3.10/site-packages/spacy/util.py?line=522'>523</a>\u001b[0m \u001b[39m# registry, including custom subclasses provided via entry points\u001b[39;00m\n\u001b[1;32m    <a href='file:///home/josh/.local/lib/python3.10/site-packages/spacy/util.py?line=523'>524</a>\u001b[0m lang_cls \u001b[39m=\u001b[39m get_lang_class(nlp_config[\u001b[39m\"\u001b[39m\u001b[39mlang\u001b[39m\u001b[39m\"\u001b[39m])\n\u001b[0;32m--> <a href='file:///home/josh/.local/lib/python3.10/site-packages/spacy/util.py?line=524'>525</a>\u001b[0m nlp \u001b[39m=\u001b[39m lang_cls\u001b[39m.\u001b[39;49mfrom_config(\n\u001b[1;32m    <a href='file:///home/josh/.local/lib/python3.10/site-packages/spacy/util.py?line=525'>526</a>\u001b[0m     config,\n\u001b[1;32m    <a href='file:///home/josh/.local/lib/python3.10/site-packages/spacy/util.py?line=526'>527</a>\u001b[0m     vocab\u001b[39m=\u001b[39;49mvocab,\n\u001b[1;32m    <a href='file:///home/josh/.local/lib/python3.10/site-packages/spacy/util.py?line=527'>528</a>\u001b[0m     disable\u001b[39m=\u001b[39;49mdisable,\n\u001b[1;32m    <a href='file:///home/josh/.local/lib/python3.10/site-packages/spacy/util.py?line=528'>529</a>\u001b[0m     exclude\u001b[39m=\u001b[39;49mexclude,\n\u001b[1;32m    <a href='file:///home/josh/.local/lib/python3.10/site-packages/spacy/util.py?line=529'>530</a>\u001b[0m     auto_fill\u001b[39m=\u001b[39;49mauto_fill,\n\u001b[1;32m    <a href='file:///home/josh/.local/lib/python3.10/site-packages/spacy/util.py?line=530'>531</a>\u001b[0m     validate\u001b[39m=\u001b[39;49mvalidate,\n\u001b[1;32m    <a href='file:///home/josh/.local/lib/python3.10/site-packages/spacy/util.py?line=531'>532</a>\u001b[0m )\n\u001b[1;32m    <a href='file:///home/josh/.local/lib/python3.10/site-packages/spacy/util.py?line=532'>533</a>\u001b[0m \u001b[39mreturn\u001b[39;00m nlp\n",
      "File \u001b[0;32m~/.local/lib/python3.10/site-packages/spacy/language.py:1782\u001b[0m, in \u001b[0;36mLanguage.from_config\u001b[0;34m(cls, config, vocab, disable, exclude, meta, auto_fill, validate)\u001b[0m\n\u001b[1;32m   <a href='file:///home/josh/.local/lib/python3.10/site-packages/spacy/language.py?line=1778'>1779</a>\u001b[0m     factory \u001b[39m=\u001b[39m pipe_cfg\u001b[39m.\u001b[39mpop(\u001b[39m\"\u001b[39m\u001b[39mfactory\u001b[39m\u001b[39m\"\u001b[39m)\n\u001b[1;32m   <a href='file:///home/josh/.local/lib/python3.10/site-packages/spacy/language.py?line=1779'>1780</a>\u001b[0m     \u001b[39m# The pipe name (key in the config) here is the unique name\u001b[39;00m\n\u001b[1;32m   <a href='file:///home/josh/.local/lib/python3.10/site-packages/spacy/language.py?line=1780'>1781</a>\u001b[0m     \u001b[39m# of the component, not necessarily the factory\u001b[39;00m\n\u001b[0;32m-> <a href='file:///home/josh/.local/lib/python3.10/site-packages/spacy/language.py?line=1781'>1782</a>\u001b[0m     nlp\u001b[39m.\u001b[39;49madd_pipe(\n\u001b[1;32m   <a href='file:///home/josh/.local/lib/python3.10/site-packages/spacy/language.py?line=1782'>1783</a>\u001b[0m         factory,\n\u001b[1;32m   <a href='file:///home/josh/.local/lib/python3.10/site-packages/spacy/language.py?line=1783'>1784</a>\u001b[0m         name\u001b[39m=\u001b[39;49mpipe_name,\n\u001b[1;32m   <a href='file:///home/josh/.local/lib/python3.10/site-packages/spacy/language.py?line=1784'>1785</a>\u001b[0m         config\u001b[39m=\u001b[39;49mpipe_cfg,\n\u001b[1;32m   <a href='file:///home/josh/.local/lib/python3.10/site-packages/spacy/language.py?line=1785'>1786</a>\u001b[0m         validate\u001b[39m=\u001b[39;49mvalidate,\n\u001b[1;32m   <a href='file:///home/josh/.local/lib/python3.10/site-packages/spacy/language.py?line=1786'>1787</a>\u001b[0m         raw_config\u001b[39m=\u001b[39;49mraw_config,\n\u001b[1;32m   <a href='file:///home/josh/.local/lib/python3.10/site-packages/spacy/language.py?line=1787'>1788</a>\u001b[0m     )\n\u001b[1;32m   <a href='file:///home/josh/.local/lib/python3.10/site-packages/spacy/language.py?line=1788'>1789</a>\u001b[0m \u001b[39melse\u001b[39;00m:\n\u001b[1;32m   <a href='file:///home/josh/.local/lib/python3.10/site-packages/spacy/language.py?line=1789'>1790</a>\u001b[0m     \u001b[39m# We need the sourced components to reference the same\u001b[39;00m\n\u001b[1;32m   <a href='file:///home/josh/.local/lib/python3.10/site-packages/spacy/language.py?line=1790'>1791</a>\u001b[0m     \u001b[39m# vocab without modifying the current vocab state **AND**\u001b[39;00m\n\u001b[0;32m   (...)\u001b[0m\n\u001b[1;32m   <a href='file:///home/josh/.local/lib/python3.10/site-packages/spacy/language.py?line=1795'>1796</a>\u001b[0m     \u001b[39m# during deserialization, so they do not need any\u001b[39;00m\n\u001b[1;32m   <a href='file:///home/josh/.local/lib/python3.10/site-packages/spacy/language.py?line=1796'>1797</a>\u001b[0m     \u001b[39m# additional handling.\u001b[39;00m\n\u001b[1;32m   <a href='file:///home/josh/.local/lib/python3.10/site-packages/spacy/language.py?line=1797'>1798</a>\u001b[0m     \u001b[39mif\u001b[39;00m vocab_b \u001b[39mis\u001b[39;00m \u001b[39mNone\u001b[39;00m:\n",
      "File \u001b[0;32m~/.local/lib/python3.10/site-packages/spacy/language.py:792\u001b[0m, in \u001b[0;36mLanguage.add_pipe\u001b[0;34m(self, factory_name, name, before, after, first, last, source, config, raw_config, validate)\u001b[0m\n\u001b[1;32m    <a href='file:///home/josh/.local/lib/python3.10/site-packages/spacy/language.py?line=783'>784</a>\u001b[0m     \u001b[39mif\u001b[39;00m \u001b[39mnot\u001b[39;00m \u001b[39mself\u001b[39m\u001b[39m.\u001b[39mhas_factory(factory_name):\n\u001b[1;32m    <a href='file:///home/josh/.local/lib/python3.10/site-packages/spacy/language.py?line=784'>785</a>\u001b[0m         err \u001b[39m=\u001b[39m Errors\u001b[39m.\u001b[39mE002\u001b[39m.\u001b[39mformat(\n\u001b[1;32m    <a href='file:///home/josh/.local/lib/python3.10/site-packages/spacy/language.py?line=785'>786</a>\u001b[0m             name\u001b[39m=\u001b[39mfactory_name,\n\u001b[1;32m    <a href='file:///home/josh/.local/lib/python3.10/site-packages/spacy/language.py?line=786'>787</a>\u001b[0m             opts\u001b[39m=\u001b[39m\u001b[39m\"\u001b[39m\u001b[39m, \u001b[39m\u001b[39m\"\u001b[39m\u001b[39m.\u001b[39mjoin(\u001b[39mself\u001b[39m\u001b[39m.\u001b[39mfactory_names),\n\u001b[0;32m   (...)\u001b[0m\n\u001b[1;32m    <a href='file:///home/josh/.local/lib/python3.10/site-packages/spacy/language.py?line=789'>790</a>\u001b[0m             lang_code\u001b[39m=\u001b[39m\u001b[39mself\u001b[39m\u001b[39m.\u001b[39mlang,\n\u001b[1;32m    <a href='file:///home/josh/.local/lib/python3.10/site-packages/spacy/language.py?line=790'>791</a>\u001b[0m         )\n\u001b[0;32m--> <a href='file:///home/josh/.local/lib/python3.10/site-packages/spacy/language.py?line=791'>792</a>\u001b[0m     pipe_component \u001b[39m=\u001b[39m \u001b[39mself\u001b[39;49m\u001b[39m.\u001b[39;49mcreate_pipe(\n\u001b[1;32m    <a href='file:///home/josh/.local/lib/python3.10/site-packages/spacy/language.py?line=792'>793</a>\u001b[0m         factory_name,\n\u001b[1;32m    <a href='file:///home/josh/.local/lib/python3.10/site-packages/spacy/language.py?line=793'>794</a>\u001b[0m         name\u001b[39m=\u001b[39;49mname,\n\u001b[1;32m    <a href='file:///home/josh/.local/lib/python3.10/site-packages/spacy/language.py?line=794'>795</a>\u001b[0m         config\u001b[39m=\u001b[39;49mconfig,\n\u001b[1;32m    <a href='file:///home/josh/.local/lib/python3.10/site-packages/spacy/language.py?line=795'>796</a>\u001b[0m         raw_config\u001b[39m=\u001b[39;49mraw_config,\n\u001b[1;32m    <a href='file:///home/josh/.local/lib/python3.10/site-packages/spacy/language.py?line=796'>797</a>\u001b[0m         validate\u001b[39m=\u001b[39;49mvalidate,\n\u001b[1;32m    <a href='file:///home/josh/.local/lib/python3.10/site-packages/spacy/language.py?line=797'>798</a>\u001b[0m     )\n\u001b[1;32m    <a href='file:///home/josh/.local/lib/python3.10/site-packages/spacy/language.py?line=798'>799</a>\u001b[0m pipe_index \u001b[39m=\u001b[39m \u001b[39mself\u001b[39m\u001b[39m.\u001b[39m_get_pipe_index(before, after, first, last)\n\u001b[1;32m    <a href='file:///home/josh/.local/lib/python3.10/site-packages/spacy/language.py?line=799'>800</a>\u001b[0m \u001b[39mself\u001b[39m\u001b[39m.\u001b[39m_pipe_meta[name] \u001b[39m=\u001b[39m \u001b[39mself\u001b[39m\u001b[39m.\u001b[39mget_factory_meta(factory_name)\n",
      "File \u001b[0;32m~/.local/lib/python3.10/site-packages/spacy/language.py:674\u001b[0m, in \u001b[0;36mLanguage.create_pipe\u001b[0;34m(self, factory_name, name, config, raw_config, validate)\u001b[0m\n\u001b[1;32m    <a href='file:///home/josh/.local/lib/python3.10/site-packages/spacy/language.py?line=670'>671</a>\u001b[0m cfg \u001b[39m=\u001b[39m {factory_name: config}\n\u001b[1;32m    <a href='file:///home/josh/.local/lib/python3.10/site-packages/spacy/language.py?line=671'>672</a>\u001b[0m \u001b[39m# We're calling the internal _fill here to avoid constructing the\u001b[39;00m\n\u001b[1;32m    <a href='file:///home/josh/.local/lib/python3.10/site-packages/spacy/language.py?line=672'>673</a>\u001b[0m \u001b[39m# registered functions twice\u001b[39;00m\n\u001b[0;32m--> <a href='file:///home/josh/.local/lib/python3.10/site-packages/spacy/language.py?line=673'>674</a>\u001b[0m resolved \u001b[39m=\u001b[39m registry\u001b[39m.\u001b[39;49mresolve(cfg, validate\u001b[39m=\u001b[39;49mvalidate)\n\u001b[1;32m    <a href='file:///home/josh/.local/lib/python3.10/site-packages/spacy/language.py?line=674'>675</a>\u001b[0m filled \u001b[39m=\u001b[39m registry\u001b[39m.\u001b[39mfill({\u001b[39m\"\u001b[39m\u001b[39mcfg\u001b[39m\u001b[39m\"\u001b[39m: cfg[factory_name]}, validate\u001b[39m=\u001b[39mvalidate)[\u001b[39m\"\u001b[39m\u001b[39mcfg\u001b[39m\u001b[39m\"\u001b[39m]\n\u001b[1;32m    <a href='file:///home/josh/.local/lib/python3.10/site-packages/spacy/language.py?line=675'>676</a>\u001b[0m filled \u001b[39m=\u001b[39m Config(filled)\n",
      "File \u001b[0;32m~/.local/lib/python3.10/site-packages/thinc/config.py:746\u001b[0m, in \u001b[0;36mregistry.resolve\u001b[0;34m(cls, config, schema, overrides, validate)\u001b[0m\n\u001b[1;32m    <a href='file:///home/josh/.local/lib/python3.10/site-packages/thinc/config.py?line=736'>737</a>\u001b[0m \u001b[39m@classmethod\u001b[39m\n\u001b[1;32m    <a href='file:///home/josh/.local/lib/python3.10/site-packages/thinc/config.py?line=737'>738</a>\u001b[0m \u001b[39mdef\u001b[39;00m \u001b[39mresolve\u001b[39m(\n\u001b[1;32m    <a href='file:///home/josh/.local/lib/python3.10/site-packages/thinc/config.py?line=738'>739</a>\u001b[0m     \u001b[39mcls\u001b[39m,\n\u001b[0;32m   (...)\u001b[0m\n\u001b[1;32m    <a href='file:///home/josh/.local/lib/python3.10/site-packages/thinc/config.py?line=743'>744</a>\u001b[0m     validate: \u001b[39mbool\u001b[39m \u001b[39m=\u001b[39m \u001b[39mTrue\u001b[39;00m,\n\u001b[1;32m    <a href='file:///home/josh/.local/lib/python3.10/site-packages/thinc/config.py?line=744'>745</a>\u001b[0m ) \u001b[39m-\u001b[39m\u001b[39m>\u001b[39m Dict[\u001b[39mstr\u001b[39m, Any]:\n\u001b[0;32m--> <a href='file:///home/josh/.local/lib/python3.10/site-packages/thinc/config.py?line=745'>746</a>\u001b[0m     resolved, _ \u001b[39m=\u001b[39m \u001b[39mcls\u001b[39;49m\u001b[39m.\u001b[39;49m_make(\n\u001b[1;32m    <a href='file:///home/josh/.local/lib/python3.10/site-packages/thinc/config.py?line=746'>747</a>\u001b[0m         config, schema\u001b[39m=\u001b[39;49mschema, overrides\u001b[39m=\u001b[39;49moverrides, validate\u001b[39m=\u001b[39;49mvalidate, resolve\u001b[39m=\u001b[39;49m\u001b[39mTrue\u001b[39;49;00m\n\u001b[1;32m    <a href='file:///home/josh/.local/lib/python3.10/site-packages/thinc/config.py?line=747'>748</a>\u001b[0m     )\n\u001b[1;32m    <a href='file:///home/josh/.local/lib/python3.10/site-packages/thinc/config.py?line=748'>749</a>\u001b[0m     \u001b[39mreturn\u001b[39;00m resolved\n",
      "File \u001b[0;32m~/.local/lib/python3.10/site-packages/thinc/config.py:795\u001b[0m, in \u001b[0;36mregistry._make\u001b[0;34m(cls, config, schema, overrides, resolve, validate)\u001b[0m\n\u001b[1;32m    <a href='file:///home/josh/.local/lib/python3.10/site-packages/thinc/config.py?line=792'>793</a>\u001b[0m \u001b[39mif\u001b[39;00m \u001b[39mnot\u001b[39;00m is_interpolated:\n\u001b[1;32m    <a href='file:///home/josh/.local/lib/python3.10/site-packages/thinc/config.py?line=793'>794</a>\u001b[0m     config \u001b[39m=\u001b[39m Config(orig_config)\u001b[39m.\u001b[39minterpolate()\n\u001b[0;32m--> <a href='file:///home/josh/.local/lib/python3.10/site-packages/thinc/config.py?line=794'>795</a>\u001b[0m filled, _, resolved \u001b[39m=\u001b[39m \u001b[39mcls\u001b[39;49m\u001b[39m.\u001b[39;49m_fill(\n\u001b[1;32m    <a href='file:///home/josh/.local/lib/python3.10/site-packages/thinc/config.py?line=795'>796</a>\u001b[0m     config, schema, validate\u001b[39m=\u001b[39;49mvalidate, overrides\u001b[39m=\u001b[39;49moverrides, resolve\u001b[39m=\u001b[39;49mresolve\n\u001b[1;32m    <a href='file:///home/josh/.local/lib/python3.10/site-packages/thinc/config.py?line=796'>797</a>\u001b[0m )\n\u001b[1;32m    <a href='file:///home/josh/.local/lib/python3.10/site-packages/thinc/config.py?line=797'>798</a>\u001b[0m filled \u001b[39m=\u001b[39m Config(filled, section_order\u001b[39m=\u001b[39msection_order)\n\u001b[1;32m    <a href='file:///home/josh/.local/lib/python3.10/site-packages/thinc/config.py?line=798'>799</a>\u001b[0m \u001b[39m# Check that overrides didn't include invalid properties not in config\u001b[39;00m\n",
      "File \u001b[0;32m~/.local/lib/python3.10/site-packages/thinc/config.py:850\u001b[0m, in \u001b[0;36mregistry._fill\u001b[0;34m(cls, config, schema, validate, resolve, parent, overrides)\u001b[0m\n\u001b[1;32m    <a href='file:///home/josh/.local/lib/python3.10/site-packages/thinc/config.py?line=847'>848</a>\u001b[0m     schema\u001b[39m.\u001b[39m__fields__[key] \u001b[39m=\u001b[39m copy_model_field(field, Any)\n\u001b[1;32m    <a href='file:///home/josh/.local/lib/python3.10/site-packages/thinc/config.py?line=848'>849</a>\u001b[0m promise_schema \u001b[39m=\u001b[39m \u001b[39mcls\u001b[39m\u001b[39m.\u001b[39mmake_promise_schema(value, resolve\u001b[39m=\u001b[39mresolve)\n\u001b[0;32m--> <a href='file:///home/josh/.local/lib/python3.10/site-packages/thinc/config.py?line=849'>850</a>\u001b[0m filled[key], validation[v_key], final[key] \u001b[39m=\u001b[39m \u001b[39mcls\u001b[39;49m\u001b[39m.\u001b[39;49m_fill(\n\u001b[1;32m    <a href='file:///home/josh/.local/lib/python3.10/site-packages/thinc/config.py?line=850'>851</a>\u001b[0m     value,\n\u001b[1;32m    <a href='file:///home/josh/.local/lib/python3.10/site-packages/thinc/config.py?line=851'>852</a>\u001b[0m     promise_schema,\n\u001b[1;32m    <a href='file:///home/josh/.local/lib/python3.10/site-packages/thinc/config.py?line=852'>853</a>\u001b[0m     validate\u001b[39m=\u001b[39;49mvalidate,\n\u001b[1;32m    <a href='file:///home/josh/.local/lib/python3.10/site-packages/thinc/config.py?line=853'>854</a>\u001b[0m     resolve\u001b[39m=\u001b[39;49mresolve,\n\u001b[1;32m    <a href='file:///home/josh/.local/lib/python3.10/site-packages/thinc/config.py?line=854'>855</a>\u001b[0m     parent\u001b[39m=\u001b[39;49mkey_parent,\n\u001b[1;32m    <a href='file:///home/josh/.local/lib/python3.10/site-packages/thinc/config.py?line=855'>856</a>\u001b[0m     overrides\u001b[39m=\u001b[39;49moverrides,\n\u001b[1;32m    <a href='file:///home/josh/.local/lib/python3.10/site-packages/thinc/config.py?line=856'>857</a>\u001b[0m )\n\u001b[1;32m    <a href='file:///home/josh/.local/lib/python3.10/site-packages/thinc/config.py?line=857'>858</a>\u001b[0m reg_name, func_name \u001b[39m=\u001b[39m \u001b[39mcls\u001b[39m\u001b[39m.\u001b[39mget_constructor(final[key])\n\u001b[1;32m    <a href='file:///home/josh/.local/lib/python3.10/site-packages/thinc/config.py?line=858'>859</a>\u001b[0m args, kwargs \u001b[39m=\u001b[39m \u001b[39mcls\u001b[39m\u001b[39m.\u001b[39mparse_args(final[key])\n",
      "File \u001b[0;32m~/.local/lib/python3.10/site-packages/thinc/config.py:849\u001b[0m, in \u001b[0;36mregistry._fill\u001b[0;34m(cls, config, schema, validate, resolve, parent, overrides)\u001b[0m\n\u001b[1;32m    <a href='file:///home/josh/.local/lib/python3.10/site-packages/thinc/config.py?line=846'>847</a>\u001b[0m     field \u001b[39m=\u001b[39m schema\u001b[39m.\u001b[39m__fields__[key]\n\u001b[1;32m    <a href='file:///home/josh/.local/lib/python3.10/site-packages/thinc/config.py?line=847'>848</a>\u001b[0m     schema\u001b[39m.\u001b[39m__fields__[key] \u001b[39m=\u001b[39m copy_model_field(field, Any)\n\u001b[0;32m--> <a href='file:///home/josh/.local/lib/python3.10/site-packages/thinc/config.py?line=848'>849</a>\u001b[0m promise_schema \u001b[39m=\u001b[39m \u001b[39mcls\u001b[39;49m\u001b[39m.\u001b[39;49mmake_promise_schema(value, resolve\u001b[39m=\u001b[39;49mresolve)\n\u001b[1;32m    <a href='file:///home/josh/.local/lib/python3.10/site-packages/thinc/config.py?line=849'>850</a>\u001b[0m filled[key], validation[v_key], final[key] \u001b[39m=\u001b[39m \u001b[39mcls\u001b[39m\u001b[39m.\u001b[39m_fill(\n\u001b[1;32m    <a href='file:///home/josh/.local/lib/python3.10/site-packages/thinc/config.py?line=850'>851</a>\u001b[0m     value,\n\u001b[1;32m    <a href='file:///home/josh/.local/lib/python3.10/site-packages/thinc/config.py?line=851'>852</a>\u001b[0m     promise_schema,\n\u001b[0;32m   (...)\u001b[0m\n\u001b[1;32m    <a href='file:///home/josh/.local/lib/python3.10/site-packages/thinc/config.py?line=855'>856</a>\u001b[0m     overrides\u001b[39m=\u001b[39moverrides,\n\u001b[1;32m    <a href='file:///home/josh/.local/lib/python3.10/site-packages/thinc/config.py?line=856'>857</a>\u001b[0m )\n\u001b[1;32m    <a href='file:///home/josh/.local/lib/python3.10/site-packages/thinc/config.py?line=857'>858</a>\u001b[0m reg_name, func_name \u001b[39m=\u001b[39m \u001b[39mcls\u001b[39m\u001b[39m.\u001b[39mget_constructor(final[key])\n",
      "File \u001b[0;32m~/.local/lib/python3.10/site-packages/thinc/config.py:1040\u001b[0m, in \u001b[0;36mregistry.make_promise_schema\u001b[0;34m(cls, obj, resolve)\u001b[0m\n\u001b[1;32m   <a href='file:///home/josh/.local/lib/python3.10/site-packages/thinc/config.py?line=1037'>1038</a>\u001b[0m \u001b[39mif\u001b[39;00m \u001b[39mnot\u001b[39;00m resolve \u001b[39mand\u001b[39;00m \u001b[39mnot\u001b[39;00m \u001b[39mcls\u001b[39m\u001b[39m.\u001b[39mhas(reg_name, func_name):\n\u001b[1;32m   <a href='file:///home/josh/.local/lib/python3.10/site-packages/thinc/config.py?line=1038'>1039</a>\u001b[0m     \u001b[39mreturn\u001b[39;00m EmptySchema\n\u001b[0;32m-> <a href='file:///home/josh/.local/lib/python3.10/site-packages/thinc/config.py?line=1039'>1040</a>\u001b[0m func \u001b[39m=\u001b[39m \u001b[39mcls\u001b[39;49m\u001b[39m.\u001b[39;49mget(reg_name, func_name)\n\u001b[1;32m   <a href='file:///home/josh/.local/lib/python3.10/site-packages/thinc/config.py?line=1040'>1041</a>\u001b[0m \u001b[39m# Read the argument annotations and defaults from the function signature\u001b[39;00m\n\u001b[1;32m   <a href='file:///home/josh/.local/lib/python3.10/site-packages/thinc/config.py?line=1041'>1042</a>\u001b[0m id_keys \u001b[39m=\u001b[39m [k \u001b[39mfor\u001b[39;00m k \u001b[39min\u001b[39;00m obj\u001b[39m.\u001b[39mkeys() \u001b[39mif\u001b[39;00m k\u001b[39m.\u001b[39mstartswith(\u001b[39m\"\u001b[39m\u001b[39m@\u001b[39m\u001b[39m\"\u001b[39m)]\n",
      "File \u001b[0;32m~/.local/lib/python3.10/site-packages/spacy/util.py:141\u001b[0m, in \u001b[0;36mregistry.get\u001b[0;34m(cls, registry_name, func_name)\u001b[0m\n\u001b[1;32m    <a href='file:///home/josh/.local/lib/python3.10/site-packages/spacy/util.py?line=138'>139</a>\u001b[0m             \u001b[39mpass\u001b[39;00m\n\u001b[1;32m    <a href='file:///home/josh/.local/lib/python3.10/site-packages/spacy/util.py?line=139'>140</a>\u001b[0m     available \u001b[39m=\u001b[39m \u001b[39m\"\u001b[39m\u001b[39m, \u001b[39m\u001b[39m\"\u001b[39m\u001b[39m.\u001b[39mjoin(\u001b[39msorted\u001b[39m(reg\u001b[39m.\u001b[39mget_all()\u001b[39m.\u001b[39mkeys())) \u001b[39mor\u001b[39;00m \u001b[39m\"\u001b[39m\u001b[39mnone\u001b[39m\u001b[39m\"\u001b[39m\n\u001b[0;32m--> <a href='file:///home/josh/.local/lib/python3.10/site-packages/spacy/util.py?line=140'>141</a>\u001b[0m     \u001b[39mraise\u001b[39;00m RegistryError(\n\u001b[1;32m    <a href='file:///home/josh/.local/lib/python3.10/site-packages/spacy/util.py?line=141'>142</a>\u001b[0m         Errors\u001b[39m.\u001b[39mE893\u001b[39m.\u001b[39mformat(\n\u001b[1;32m    <a href='file:///home/josh/.local/lib/python3.10/site-packages/spacy/util.py?line=142'>143</a>\u001b[0m             name\u001b[39m=\u001b[39mfunc_name, reg_name\u001b[39m=\u001b[39mregistry_name, available\u001b[39m=\u001b[39mavailable\n\u001b[1;32m    <a href='file:///home/josh/.local/lib/python3.10/site-packages/spacy/util.py?line=143'>144</a>\u001b[0m         )\n\u001b[1;32m    <a href='file:///home/josh/.local/lib/python3.10/site-packages/spacy/util.py?line=144'>145</a>\u001b[0m     ) \u001b[39mfrom\u001b[39;00m \u001b[39mNone\u001b[39m\n\u001b[1;32m    <a href='file:///home/josh/.local/lib/python3.10/site-packages/spacy/util.py?line=145'>146</a>\u001b[0m \u001b[39mreturn\u001b[39;00m func\n",
      "\u001b[0;31mRegistryError\u001b[0m: [E893] Could not find function 'spacy.Tagger.v2' in function registry 'architectures'. If you're using a custom function, make sure the code is available. If the function is provided by a third-party package, e.g. spacy-transformers, make sure the package is installed in your environment.\n\nAvailable names: spacy-legacy.CharacterEmbed.v1, spacy-legacy.EntityLinker.v1, spacy-legacy.HashEmbedCNN.v1, spacy-legacy.MaxoutWindowEncoder.v1, spacy-legacy.MishWindowEncoder.v1, spacy-legacy.MultiHashEmbed.v1, spacy-legacy.Tagger.v1, spacy-legacy.TextCatBOW.v1, spacy-legacy.TextCatCNN.v1, spacy-legacy.TextCatEnsemble.v1, spacy-legacy.Tok2Vec.v1, spacy-legacy.TransitionBasedParser.v1, spacy-transformers.Tok2VecTransformer.v1, spacy-transformers.Tok2VecTransformer.v2, spacy-transformers.Tok2VecTransformer.v3, spacy-transformers.TransformerListener.v1, spacy-transformers.TransformerModel.v1, spacy-transformers.TransformerModel.v2, spacy-transformers.TransformerModel.v3, spacy.CharacterEmbed.v2, spacy.EntityLinker.v1, spacy.HashEmbedCNN.v2, spacy.MaxoutWindowEncoder.v2, spacy.MishWindowEncoder.v2, spacy.MultiHashEmbed.v2, spacy.PretrainCharacters.v1, spacy.PretrainVectors.v1, spacy.SpanCategorizer.v1, spacy.Tagger.v1, spacy.TextCatBOW.v2, spacy.TextCatCNN.v2, spacy.TextCatEnsemble.v2, spacy.TextCatLowData.v1, spacy.Tok2Vec.v2, spacy.Tok2VecListener.v1, spacy.TorchBiLSTMEncoder.v1, spacy.TransitionBasedParser.v2"
     ]
    }
   ],
   "source": [
    "# Interactive\n",
    "while True:\n",
    "    q = input('Please ask a question\\n Type stop to exit.\\n')\n",
    "    if q == 'stop':\n",
    "        break\n",
    "    answerQuestion(q)"
   ]
  },
  {
   "cell_type": "markdown",
   "metadata": {},
   "source": [
    "### Questions tested\n",
    "\n",
    "- What is the life expectancy of a cat?\n",
    "- What is the highest observed lifespan of a tiger?\n",
    "- What was the height of a mammoth?\n",
    "- What is the parent taxon of Teuthida?\n",
    "- What is the height of an elephant?\n",
    "- What is the gestation period of a LLama?\n",
    "- What is the flower color of Helianthus annuus?\n",
    "- What is the taxon name of the black mamba?\n",
    "- What is the means of locomotion of Stomatopoda?\n",
    "- What is the opposite of a perennial plant?\n",
    "- What is the heart rate of a chicken?\n",
    "- What is the life expectancy of a house cat?\n",
    "- What is the heart rate of a giraffe?"
   ]
  }
 ],
 "metadata": {
  "interpreter": {
   "hash": "e7370f93d1d0cde622a1f8e1c04877d8463912d04d973331ad4851f04de6915a"
  },
  "kernelspec": {
   "display_name": "Python 3.10.4 64-bit",
   "language": "python",
   "name": "python3"
  },
  "language_info": {
   "codemirror_mode": {
    "name": "ipython",
    "version": 3
   },
   "file_extension": ".py",
   "mimetype": "text/x-python",
   "name": "python",
   "nbconvert_exporter": "python",
   "pygments_lexer": "ipython3",
   "version": "3.10.4"
  }
 },
 "nbformat": 4,
 "nbformat_minor": 4
}
